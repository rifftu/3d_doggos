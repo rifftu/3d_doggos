{
 "cells": [
  {
   "cell_type": "code",
   "execution_count": 1,
   "id": "870e01bf-6dd5-4808-9b62-62a10a1b45f2",
   "metadata": {},
   "outputs": [],
   "source": [
    "from skimage import io as skio\n",
    "\n",
    "import scipy.io\n",
    "import math\n",
    "from glob import glob"
   ]
  },
  {
   "cell_type": "code",
   "execution_count": 10,
   "id": "6c3c3472-8722-4979-aa64-6a9aeaa11416",
   "metadata": {},
   "outputs": [],
   "source": [
    "from scipy.optimize import least_squares\n",
    "\n"
   ]
  },
  {
   "cell_type": "code",
   "execution_count": 2,
   "id": "bd930967-20f0-4565-98c3-de69a6d8824f",
   "metadata": {},
   "outputs": [],
   "source": [
    "from tqdm import tqdm"
   ]
  },
  {
   "cell_type": "code",
   "execution_count": 3,
   "id": "51de09d5-084e-4078-a56b-7eca5374f1ae",
   "metadata": {},
   "outputs": [],
   "source": [
    "import numpy as np"
   ]
  },
  {
   "cell_type": "code",
   "execution_count": 4,
   "id": "1c41a272-5175-415c-9181-508143cf4e88",
   "metadata": {},
   "outputs": [],
   "source": [
    "from matplotlib import pyplot as plt"
   ]
  },
  {
   "cell_type": "code",
   "execution_count": 5,
   "id": "79b9684c-1158-49fb-9158-c3b5b8b3e12d",
   "metadata": {},
   "outputs": [],
   "source": [
    "import pickle"
   ]
  },
  {
   "cell_type": "code",
   "execution_count": 6,
   "id": "f570f8fa-7456-4c59-9e7b-276b97d681f2",
   "metadata": {},
   "outputs": [],
   "source": [
    "from skimage.transform import resize\n"
   ]
  },
  {
   "cell_type": "markdown",
   "id": "613dad1c-c11d-476a-85be-15c725bb92b7",
   "metadata": {},
   "source": [
    "### Get the all the points for a breed"
   ]
  },
  {
   "cell_type": "code",
   "execution_count": 7,
   "id": "d0b58be2-6ae8-40c1-b2fc-b18a05171a67",
   "metadata": {},
   "outputs": [],
   "source": [
    "top_breeds = ['005.alaskan_malamute','015.basset_hound','029.border_collie','039.bull_terrier','057.dalmatian','041.bullmastiff','087.irish_terrier','056.dachshund','016.beagle','012.australian_shepherd']"
   ]
  },
  {
   "cell_type": "code",
   "execution_count": 8,
   "id": "720e9831-0e94-46a5-ab83-2fe0c7e685fc",
   "metadata": {},
   "outputs": [],
   "source": [
    "with open('../sfm_warp_data/mean_points.pickle', 'rb') as handle:\n",
    "    mean_points_2d = pickle.load(handle)\n",
    "with open('../sfm_warp_data/3d_points.pickle', 'rb') as handle:\n",
    "    points_meanaligned_3d = pickle.load(handle)"
   ]
  },
  {
   "cell_type": "markdown",
   "id": "b72238f0-41c6-4702-9971-c389021f4631",
   "metadata": {},
   "source": [
    "REMEMBEr\n",
    "\n",
    "gamma - rotation around X axis (look up / look down)\n",
    "\n",
    "beta - rotation around Y axis (look left/ look right)\n",
    "\n",
    "alpha - rotation around Z axis (tilt da head)"
   ]
  },
  {
   "cell_type": "code",
   "execution_count": 17,
   "id": "d55d1eff-ceb6-458a-b951-9f3b6694cdc9",
   "metadata": {},
   "outputs": [],
   "source": [
    "def angle_estimation_loss(arr, orig, target):\n",
    "    \n",
    "    # arr: alpha, beta, gamma, scale\n",
    "    \n",
    "    tmx, T = reconstruct_tmx(arr)\n",
    "    rotated_2d = (tmx @ orig)[:2]\n",
    "    \n",
    "    translated = rotated_2d + T\n",
    "    errors = (translated - target) ** 2\n",
    "    errors = np.mean(errors, axis = 0)\n",
    "    \n",
    "    return errors\n",
    "    \n",
    "def reconstruct_tmx(arr):\n",
    "    alpha, beta, gamma, scale, tx, ty = arr\n",
    "    ca, cb, cg = math.cos(alpha), math.cos(beta), math.cos(gamma)\n",
    "    sa, sb, sg = math.sin(alpha), math.sin(beta), math.sin(gamma)\n",
    "    rotation = [[ca * cb, (ca*sb*sg) - (sa*cg), (ca*sb*cg) + (sa*sg)],\n",
    "                [sa*cb, (sa*sb*sg) + (ca*cg), (sa*sb*cg) - (ca*sg)],\n",
    "                [- sb, cb * sg, cb * cg]]\n",
    "    \n",
    "    rmx = np.array(rotation)\n",
    "    rmx = rmx * scale\n",
    "    \n",
    "    T = np.array([[tx],[ty]])\n",
    "    \n",
    "    return rmx, T"
   ]
  },
  {
   "cell_type": "code",
   "execution_count": 32,
   "id": "390a92c1-3f5a-446b-91b8-53cc2e45be11",
   "metadata": {
    "tags": []
   },
   "outputs": [
    {
     "name": "stderr",
     "output_type": "stream",
     "text": [
      "100%|███████████████████████████████████████████| 10/10 [00:46<00:00,  4.67s/it]\n"
     ]
    }
   ],
   "source": [
    "camera_mts = {}\n",
    "\n",
    "for BREED in tqdm(top_breeds):\n",
    "    breed_mats = glob(f'../CU_dogs/training_133/{BREED}/*v5.mat')\n",
    "    breed_mats.sort()\n",
    "    \n",
    "    output = []\n",
    "    \n",
    "    points_3d = points_meanaligned_3d[BREED]\n",
    "    \n",
    "    for name in breed_mats:\n",
    "        mat = scipy.io.loadmat(name)\n",
    "        points = mat['points']\n",
    "        img = mat['Imask']\n",
    "        points = np.array(points)\n",
    "        \n",
    "        optimum = scipy.optimize.least_squares(angle_estimation_loss,\n",
    "                                       np.array([0,0,0,1, 0, 0]),\n",
    "                                       bounds=([-1.57, -1.57, -1.57, 0.25, -224, -224], [1.57, 1.57, 1.57, 4, 224, 224]),\n",
    "                                       ftol = None,\n",
    "                                       args=[points_3d, points])\n",
    "        \n",
    "        \n",
    "        x = optimum.x\n",
    "        \n",
    "        M, T = reconstruct_tmx(x)\n",
    "        \n",
    "        alpha, beta, gamma, scale, _, _ = x\n",
    "        \n",
    "        output.append({\n",
    "            'M': M,\n",
    "            'T': T,\n",
    "            'alpha': alpha,\n",
    "            'beta': beta,\n",
    "            'gamma': gamma,\n",
    "            'scale': scale\n",
    "        })\n",
    "        \n",
    "    camera_mts[BREED] = output\n",
    "        \n",
    "  \n",
    "    \n",
    "    \n"
   ]
  },
  {
   "cell_type": "code",
   "execution_count": 34,
   "id": "8519299b-236e-46fb-938f-7712d2c001d1",
   "metadata": {},
   "outputs": [],
   "source": [
    "with open('../sfm_warp_data/camera_mts.pickle', 'wb') as handle:\n",
    "    pickle.dump(camera_mts, handle, protocol=pickle.HIGHEST_PROTOCOL)\n",
    "\n"
   ]
  },
  {
   "cell_type": "code",
   "execution_count": 35,
   "id": "2511d223-dc96-4598-8cbe-4686dc3cddea",
   "metadata": {},
   "outputs": [],
   "source": [
    "BREED = top_breeds[0]"
   ]
  },
  {
   "cell_type": "code",
   "execution_count": 37,
   "id": "ccd56634-a189-40b3-8267-1952d6404ac1",
   "metadata": {},
   "outputs": [],
   "source": [
    "alphas = [d['alpha'] for d in camera_mts[BREED]]\n",
    "betas = [d['beta'] for d in camera_mts[BREED]]\n",
    "gammas = [d['gamma'] for d in camera_mts[BREED]]"
   ]
  },
  {
   "cell_type": "code",
   "execution_count": 41,
   "id": "fc84b07f-0991-4667-ab5a-a5f26ef44fe0",
   "metadata": {},
   "outputs": [
    {
     "data": {
      "text/plain": [
       "(array([ 2.,  7., 12., 10.,  8.,  5.,  5.,  3.,  2.,  3.]),\n",
       " array([-0.13038476, -0.10074712, -0.07110947, -0.04147183, -0.01183419,\n",
       "         0.01780345,  0.0474411 ,  0.07707874,  0.10671638,  0.13635402,\n",
       "         0.16599167]),\n",
       " <BarContainer object of 10 artists>)"
      ]
     },
     "execution_count": 41,
     "metadata": {},
     "output_type": "execute_result"
    },
    {
     "data": {
      "image/png": "[encoded data removed]",
      "text/plain": [
       "<Figure size 432x288 with 1 Axes>"
      ]
     },
     "metadata": {
      "needs_background": "light"
     },
     "output_type": "display_data"
    }
   ],
   "source": [
    "plt.hist(alphas)"
   ]
  },
  {
   "cell_type": "code",
   "execution_count": 42,
   "id": "9e7b6c68-4659-481c-86f3-578739bc5f32",
   "metadata": {},
   "outputs": [
    {
     "data": {
      "text/plain": [
       "(array([ 5.,  2., 10.,  6., 12.,  6.,  3.,  6.,  3.,  4.]),\n",
       " array([-0.58592463, -0.45486981, -0.32381499, -0.19276017, -0.06170535,\n",
       "         0.06934947,  0.2004043 ,  0.33145912,  0.46251394,  0.59356876,\n",
       "         0.72462358]),\n",
       " <BarContainer object of 10 artists>)"
      ]
     },
     "execution_count": 42,
     "metadata": {},
     "output_type": "execute_result"
    },
    {
     "data": {
      "image/png": "[encoded data removed]",
      "text/plain": [
       "<Figure size 432x288 with 1 Axes>"
      ]
     },
     "metadata": {
      "needs_background": "light"
     },
     "output_type": "display_data"
    }
   ],
   "source": [
    "plt.hist(betas)"
   ]
  },
  {
   "cell_type": "code",
   "execution_count": 43,
   "id": "f92b756e-58df-4c3c-8b7c-628f32785ec1",
   "metadata": {},
   "outputs": [
    {
     "data": {
      "text/plain": [
       "(array([ 1.,  2.,  1.,  5.,  9.,  9., 10., 10.,  4.,  6.]),\n",
       " array([-0.57791635, -0.47169252, -0.36546869, -0.25924485, -0.15302102,\n",
       "        -0.04679718,  0.05942665,  0.16565048,  0.27187432,  0.37809815,\n",
       "         0.48432199]),\n",
       " <BarContainer object of 10 artists>)"
      ]
     },
     "execution_count": 43,
     "metadata": {},
     "output_type": "execute_result"
    },
    {
     "data": {
      "image/png": "[encoded data removed]",
      "text/plain": [
       "<Figure size 432x288 with 1 Axes>"
      ]
     },
     "metadata": {
      "needs_background": "light"
     },
     "output_type": "display_data"
    }
   ],
   "source": [
    "plt.hist(gammas)"
   ]
  },
  {
   "cell_type": "code",
   "execution_count": null,
   "id": "45ac25bf-be80-4cef-8a4d-d0cef7caadee",
   "metadata": {},
   "outputs": [],
   "source": []
  }
 ],
 "metadata": {
  "kernelspec": {
   "display_name": "Python 3 (ipykernel)",
   "language": "python",
   "name": "python3"
  },
  "language_info": {
   "codemirror_mode": {
    "name": "ipython",
    "version": 3
   },
   "file_extension": ".py",
   "mimetype": "text/x-python",
   "name": "python",
   "nbconvert_exporter": "python",
   "pygments_lexer": "ipython3",
   "version": "3.8.12"
  }
 },
 "nbformat": 4,
 "nbformat_minor": 5
}
