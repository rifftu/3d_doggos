{
 "cells": [
  {
   "cell_type": "code",
   "execution_count": 1,
   "id": "bbe65927-fa48-4301-a257-a2a08dc048b7",
   "metadata": {},
   "outputs": [],
   "source": [
    "from skimage import io as skio\n",
    "from scipy.optimize import least_squares\n",
    "import math\n",
    "from tqdm import tqdm\n",
    "import numpy as np\n",
    "\n",
    "from matplotlib import pyplot as plt\n",
    "import pickle\n",
    "from skimage.transform import resize\n",
    "\n",
    "from scipy import interpolate\n",
    "\n",
    "from scipy.interpolate import interp2d\n",
    "\n",
    "from skimage.draw import polygon\n",
    "\n",
    "\n",
    "\n"
   ]
  },
  {
   "cell_type": "code",
   "execution_count": 9,
   "id": "7eb7d819-89f8-4459-968f-355c13253d52",
   "metadata": {},
   "outputs": [],
   "source": [
    "from glob import glob"
   ]
  },
  {
   "cell_type": "code",
   "execution_count": 57,
   "id": "8d75e3a9-d6eb-4559-ad60-d7da5c3ccf7a",
   "metadata": {},
   "outputs": [
    {
     "data": {
      "text/plain": [
       "1.0000000000000002"
      ]
     },
     "execution_count": 57,
     "metadata": {},
     "output_type": "execute_result"
    }
   ],
   "source": [
    "BIG_K = 20\n",
    "DISTRIBUTION = np.array([0.17, 0.15, 0.13, 0.11, 0.1, 0.1, 0.07, 0.07, 0.05, 0.05])\n",
    "DISTRIBUTION = np.hstack([DISTRIBUTION*0.67, DISTRIBUTION * 0.33])\n",
    "DISTRIBUTION = (list(DISTRIBUTION))\n",
    "DISTRIBUTION.sort(reverse=True)\n",
    "sum(DISTRIBUTION)"
   ]
  },
  {
   "cell_type": "code",
   "execution_count": 58,
   "id": "4bdf33e8-4144-4bb1-aa67-3776585d3e2f",
   "metadata": {},
   "outputs": [
    {
     "data": {
      "text/plain": [
       "[0.11390000000000002,\n",
       " 0.1005,\n",
       " 0.08710000000000001,\n",
       " 0.0737,\n",
       " 0.067,\n",
       " 0.067,\n",
       " 0.056100000000000004,\n",
       " 0.0495,\n",
       " 0.046900000000000004,\n",
       " 0.046900000000000004,\n",
       " 0.0429,\n",
       " 0.0363,\n",
       " 0.0335,\n",
       " 0.0335,\n",
       " 0.033,\n",
       " 0.033,\n",
       " 0.023100000000000002,\n",
       " 0.023100000000000002,\n",
       " 0.0165,\n",
       " 0.0165]"
      ]
     },
     "execution_count": 58,
     "metadata": {},
     "output_type": "execute_result"
    }
   ],
   "source": [
    "DISTRIBUTION"
   ]
  },
  {
   "cell_type": "code",
   "execution_count": 3,
   "id": "44cba221-07b1-4fdc-8693-917ccd4138e1",
   "metadata": {},
   "outputs": [],
   "source": [
    "frame_sequence = []\n",
    "\n",
    "curr = (10, 10)\n"
   ]
  },
  {
   "cell_type": "code",
   "execution_count": 4,
   "id": "461bf1a3-e060-4b9a-8717-3192a192a0fc",
   "metadata": {},
   "outputs": [],
   "source": [
    "import os"
   ]
  },
  {
   "cell_type": "code",
   "execution_count": 5,
   "id": "783c70c0-b8c9-40ee-8c72-17b4cd1fee8b",
   "metadata": {},
   "outputs": [],
   "source": [
    "import scipy.io"
   ]
  },
  {
   "cell_type": "code",
   "execution_count": 6,
   "id": "a06803c7-9fe8-4d76-99f0-98bcfa738ef4",
   "metadata": {},
   "outputs": [],
   "source": [
    "top_breeds = ['005.alaskan_malamute','015.basset_hound','029.border_collie','039.bull_terrier','057.dalmatian','041.bullmastiff','087.irish_terrier','056.dachshund','016.beagle','012.australian_shepherd']\n",
    "\n",
    "with open('sfm_warp_data/camera_mts.pickle', 'rb') as handle:\n",
    "    camera_mts = pickle.load(handle)\n",
    "with open('sfm_warp_data/3d_points.pickle', 'rb') as handle:\n",
    "    points_meanaligned_3d = pickle.load(handle)"
   ]
  },
  {
   "cell_type": "code",
   "execution_count": 7,
   "id": "1acfc668-9fb7-4ee3-908a-4ca614a4801b",
   "metadata": {},
   "outputs": [],
   "source": [
    "def add_corners_2(ptset):\n",
    "    corners = np.array([[0, 0, 223, 223], [0, 223, 0, 223]])\n",
    "    return np.hstack([ptset, corners])\n",
    "\n",
    "def add_corners_3(ptset):\n",
    "    corners = np.array([[0, 0, 223, 223], [0, 223, 0, 223], [0, 0, 0, 0]])\n",
    "    return np.hstack([ptset, corners])   "
   ]
  },
  {
   "cell_type": "code",
   "execution_count": 10,
   "id": "d7b84e27-24f3-4038-b51f-2df61a7eb8fe",
   "metadata": {},
   "outputs": [],
   "source": [
    "filenames = {}\n",
    "for BREED in top_breeds:\n",
    "\n",
    "    breed_mats = glob(f'CU_dogs/training_133/{BREED}/*v5.mat')\n",
    "\n",
    "    breed_mats.sort()\n",
    "\n",
    "    filenames[BREED] = breed_mats\n",
    "\n"
   ]
  },
  {
   "cell_type": "markdown",
   "id": "ba950a92-64ec-4850-8480-92d8436e022b",
   "metadata": {},
   "source": [
    "### code for morphing\n"
   ]
  },
  {
   "cell_type": "code",
   "execution_count": 11,
   "id": "b40fc7fd-c25d-46cb-97e7-428e0757278d",
   "metadata": {},
   "outputs": [],
   "source": [
    "simplices=[\n",
    "        [12, 16, 14],\n",
    "    [12, 11, 16],\n",
    "    [11,  9, 16],\n",
    "    [16,  9, 15],\n",
    "    [11,  1,  9],\n",
    "    [ 1,  5,  9],\n",
    "    [ 9,  5, 15],\n",
    "    [ 1, 11,  8],\n",
    "    [ 5,  1,  8],\n",
    "   \n",
    "        [ 4,  5,  8],\n",
    "    [ 5,  4, 15],\n",
    "    [ 7,  4,  8],\n",
    "     [11,  2,  8],\n",
    "    [ 2,  7,  8],\n",
    "    [ 7,  2, 10],\n",
    "    [10, 12, 14],\n",
    "\n",
    "\n",
    "        [ 6, 14, 13],\n",
    "    [15,  4, 13],\n",
    "    [ 3,  6, 13],\n",
    "    [ 4,  3, 13],\n",
    "    [ 6, 10, 14],\n",
    "    [ 7,  3,  4],\n",
    "    [ 0, 10,  6],\n",
    "    [ 0,  7, 10],\n",
    "    [ 3,  0,  6],\n",
    "    [ 7,  0,  3],\n",
    "    \n",
    "            [ 2, 11, 12],\n",
    "    [10,  2, 12],\n",
    "\n",
    "]"
   ]
  },
  {
   "cell_type": "code",
   "execution_count": 12,
   "id": "a163ed5a-b73b-4347-be58-775980576628",
   "metadata": {},
   "outputs": [],
   "source": [
    "\"\"\"\n",
    "use inverse warp to do one triangle, in one direction\n",
    "params:\n",
    "1. simplex - the 3 indices connected by the triangle\n",
    "2. pts_1 - original point coordinates\n",
    "3. pts_2 - the new points\n",
    "\n",
    "returns:\n",
    "a matrix : ) \n",
    "\"\"\"\n",
    "def calculate_one_triangle(simplex, pts_1, pts_2, src_img, dest_img):\n",
    "    \n",
    "    # get the triangle corners\n",
    "    orig_points = pts_1[simplex]\n",
    "    new_points = pts_2[simplex]\n",
    "    \n",
    "    # get the polygon index for source and dest\n",
    "    old_poly = polygon(orig_points[:,1], orig_points[:,0])\n",
    "    newpoly = polygon(new_points[:,1], new_points[:,0])\n",
    "    \n",
    "    \n",
    "    \n",
    "    # get the pixel values for the old image\n",
    "    r_old = src_img[:,:,0][old_poly]\n",
    "    g_old = src_img[:,:,1][old_poly]\n",
    "    b_old = src_img[:,:,2][old_poly]\n",
    "    \n",
    "    # get the inverse warp matrix\n",
    "    tmx = computeAffine(simplex, pts_1, pts_2)\n",
    "    tmx_i = np.linalg.inv(tmx)\n",
    "    \n",
    "    # do the inverse warp\n",
    "    dest_pixels_matrix = np.vstack((newpoly[1], newpoly[0], np.ones(len(newpoly[0]))))\n",
    "    inverse_warp = (tmx_i @ dest_pixels_matrix)[:2]\n",
    "    # interpolate\n",
    "    try:\n",
    "        r_new = interpolate.griddata((old_poly), r_old, (inverse_warp[1], inverse_warp[0]), method='nearest')\n",
    "    except:\n",
    "        r_new = np.zeros(len(newpoly[0]))\n",
    "    try:\n",
    "        g_new = interpolate.griddata((old_poly), g_old, (inverse_warp[1], inverse_warp[0]), method='nearest')\n",
    "    except:\n",
    "        g_new = np.zeros(len(newpoly[0]))\n",
    "    try:\n",
    "        b_new = interpolate.griddata((old_poly), b_old, (inverse_warp[1], inverse_warp[0]), method='nearest')\n",
    "    except:\n",
    "        b_new = np.zeros(len(newpoly[0]))\n",
    "    \n",
    "    triangle = np.vstack((r_new, g_new,b_new)).T\n",
    "    triangle = np.clip(triangle, 0, 1)\n",
    "    \n",
    "    #apply pixels to dest image\n",
    "    dest_img[newpoly[0],newpoly[1]] = triangle\n",
    "\n",
    "\n",
    "def computeAffine(simplex, pts_1, pts_2):\n",
    "    orig_points = pts_1[simplex]\n",
    "\n",
    "    new_points = pts_2[simplex]\n",
    "\n",
    "    b = new_points\n",
    "    A = np.hstack([orig_points, np.ones(3).reshape((3,1))])\n",
    "\n",
    "    x = np.linalg.solve(A, b)\n",
    "\n",
    "    tmx = np.vstack([x.T, [0,0,1]])\n",
    "    return tmx\n",
    "\n",
    "\"\"\"\n",
    "this is the same code as the previous section, just with some names changed\n",
    "\"\"\"\n",
    "\n",
    "def morph(im1, im2, im1_pts, im2_pts, simplices, warp_frac, dissolve_frac):\n",
    "    \n",
    "    assert im1.shape == im2.shape\n",
    "    assert len(im1_pts) == len(im2_pts)\n",
    "\n",
    "    target_points = (im1_pts * warp_frac) + (im2_pts * (1 - warp_frac))\n",
    "    \n",
    "    im1_warped = np.zeros(im1.shape, dtype = float)\n",
    "    im2_warped = np.zeros(im1.shape, dtype = float)\n",
    "    \n",
    "    for idx, simplex in enumerate(simplices):\n",
    "        calculate_one_triangle(simplex, im1_pts, target_points, im1, im1_warped)\n",
    "        calculate_one_triangle(simplex, im2_pts, target_points, im2, im2_warped)\n",
    "        \n",
    "    combined = im1_warped*dissolve_frac + im2_warped*(1-dissolve_frac)\n",
    "    return combined"
   ]
  },
  {
   "cell_type": "markdown",
   "id": "feb81a28-550e-4ad2-bbb5-b6d467a74358",
   "metadata": {
    "jp-MarkdownHeadingCollapsed": true,
    "tags": []
   },
   "source": [
    "### the path which the animation will take"
   ]
  },
  {
   "cell_type": "code",
   "execution_count": 13,
   "id": "84f5e3c9-3742-4a14-8426-cd8732325bb5",
   "metadata": {},
   "outputs": [],
   "source": [
    "path = []\n",
    "rad = 1\n",
    "curr = [10 - 1, 10 - 1]\n",
    "path.append(curr)\n",
    "while True:\n",
    "    \n",
    "    for _ in range(rad * 2 - 1):\n",
    "        curr = [curr[0] + 1, curr[1]]\n",
    "        path.append(curr)\n",
    "    for _ in range(rad * 2 - 1):\n",
    "        curr = [curr[0], curr[1] + 1]\n",
    "        path.append(curr)\n",
    "    for _ in range(rad * 2 - 1):\n",
    "        curr = [curr[0] - 1, curr[1]]\n",
    "        path.append(curr)\n",
    "    for _ in range(rad * 2 - 2):\n",
    "        curr = [curr[0], curr[1] - 1]\n",
    "        path.append(curr)\n",
    "    curr = [curr[0] - 1, curr[1] - 2]\n",
    "\n",
    "    if curr[0] < 0 or curr[1] < 0:\n",
    "        break\n",
    "    path.append(curr)\n",
    "    \n",
    "    rad += 1\n",
    "\n"
   ]
  },
  {
   "cell_type": "markdown",
   "id": "f7163842-9be5-469d-b6d7-a75ba4b173db",
   "metadata": {
    "tags": []
   },
   "source": [
    "### the rest"
   ]
  },
  {
   "cell_type": "code",
   "execution_count": 14,
   "id": "4a95b52d-a045-48fc-b3e6-4699c4ffdd5b",
   "metadata": {},
   "outputs": [],
   "source": [
    "def angle_estimation_loss(arr, orig, target):\n",
    "    \n",
    "    # arr: alpha, beta, gamma, scale\n",
    "    \n",
    "    tmx, T = reconstruct_tmx(arr)\n",
    "    rotated_2d = (tmx @ orig)[:2]\n",
    "    \n",
    "    translated = rotated_2d + T\n",
    "    errors = (translated - target) ** 2\n",
    "    errors = np.mean(errors, axis = 0)\n",
    "    \n",
    "    return errors\n",
    "    \n",
    "def reconstruct_tmx(arr):\n",
    "    alpha, beta, gamma, scale, tx, ty = arr\n",
    "    ca, cb, cg = math.cos(alpha), math.cos(beta), math.cos(gamma)\n",
    "    sa, sb, sg = math.sin(alpha), math.sin(beta), math.sin(gamma)\n",
    "    rotation = [[ca * cb, (ca*sb*sg) - (sa*cg), (ca*sb*cg) + (sa*sg)],\n",
    "                [sa*cb, (sa*sb*sg) + (ca*cg), (sa*sb*cg) - (ca*sg)],\n",
    "                [- sb, cb * sg, cb * cg]]\n",
    "    \n",
    "    rmx = np.array(rotation)\n",
    "    rmx = rmx * scale\n",
    "    \n",
    "    T = np.array([[tx],[ty]])\n",
    "    \n",
    "    return rmx, T"
   ]
  },
  {
   "cell_type": "code",
   "execution_count": 60,
   "id": "c5b6022e-3354-44b4-b452-6667d9207846",
   "metadata": {},
   "outputs": [],
   "source": [
    "def get_top_k(available, target, k = BIG_K):\n",
    "    target = np.array(target)\n",
    "    errs = available - target.reshape((2, 1))\n",
    "    errs = np.sum((errs ** 2), axis = 0)\n",
    "    return np.argsort(errs)[:k]"
   ]
  },
  {
   "cell_type": "code",
   "execution_count": 16,
   "id": "576cbdbf-b5f8-4e15-8792-ee98b5ececad",
   "metadata": {},
   "outputs": [],
   "source": [
    "def grab_pic(breed, index):\n",
    "    mat = filenames[BREED][index]\n",
    "    mat = scipy.io.loadmat(mat)\n",
    "    return np.array(mat['Imask']), np.array(mat['points']) "
   ]
  },
  {
   "cell_type": "markdown",
   "id": "8b516357-eb4d-4cb3-b844-be4bd5125d2e",
   "metadata": {},
   "source": [
    "REMEMBEr\n",
    "\n",
    "gamma - rotation around X axis (look up / look down)\n",
    "\n",
    "beta - rotation around Y axis (look left/ look right)\n",
    "\n",
    "alpha - rotation around Z axis (tilt da head)"
   ]
  },
  {
   "cell_type": "code",
   "execution_count": 17,
   "id": "deeaea62-ad6b-4f20-a5f8-7453b5c36354",
   "metadata": {},
   "outputs": [
    {
     "name": "stdout",
     "output_type": "stream",
     "text": [
      "005.alaskan_malamute:57\n",
      "015.basset_hound:54\n",
      "029.border_collie:52\n",
      "039.bull_terrier:50\n",
      "057.dalmatian:49\n",
      "041.bullmastiff:48\n",
      "087.irish_terrier:47\n",
      "056.dachshund:47\n",
      "016.beagle:42\n",
      "012.australian_shepherd:47\n"
     ]
    }
   ],
   "source": [
    "for breed in top_breeds:\n",
    "    print(f\"{breed}:{len(camera_mts[breed])}\")"
   ]
  },
  {
   "cell_type": "code",
   "execution_count": 23,
   "id": "6b1e0cd0-0440-498e-8e02-eb61e255a515",
   "metadata": {},
   "outputs": [],
   "source": [
    "BREED = top_breeds[5]\n",
    "\n",
    "alphas = [d['alpha'] for d in camera_mts[BREED]]\n",
    "betas = [d['beta'] for d in camera_mts[BREED]]\n",
    "gammas = [d['gamma'] for d in camera_mts[BREED]]\n",
    "translates = [d['T'] for d in camera_mts[BREED]]\n",
    "scales = [d['scale'] for d in camera_mts[BREED]]\n",
    "\n",
    "betas_and_gammas = np.array([betas, gammas])"
   ]
  },
  {
   "cell_type": "code",
   "execution_count": 385,
   "id": "b9af5dfd-12a4-41f2-a6ad-1bd9cd3794ce",
   "metadata": {},
   "outputs": [
    {
     "name": "stderr",
     "output_type": "stream",
     "text": [
      "400it [14:59,  2.25s/it]\n"
     ]
    }
   ],
   "source": [
    "os.makedirs(f\"frames_tilt/{BREED}\", exist_ok=True)\n",
    "\n",
    "# grid: each row is one gamma. each col is one beta\n",
    "grid_of_topks = np.empty((20,20), dtype=object)\n",
    "for col, beta in enumerate(np.linspace(min(betas), max(betas), 20)):\n",
    "    for row, gamma in enumerate(np.linspace(min(gammas), max(gammas), 20)):\n",
    "        indices = get_top_k(betas_and_gammas, [beta, gamma])\n",
    "        grid_of_topks[row, col] = {\n",
    "            'indices': indices,\n",
    "            'beta': beta,\n",
    "            'gamma': gamma\n",
    "        }\n",
    "\n",
    "# do morphing\n",
    "\n",
    "for frame_idx, (do_row, do_col) in tqdm(enumerate(path)):\n",
    "\n",
    "    d = grid_of_topks[do_row, do_col]\n",
    "\n",
    "    indices, beta, gamma = d['indices'], d['beta'], d['gamma']\n",
    "\n",
    "    three_d = add_corners_3(points_meanaligned_3d[BREED])\n",
    "\n",
    "    rotmx = reconstruct_tmx([0, beta,gamma, 1, 0, 0])[0]\n",
    "    ctr_pt = rotmx @ np.array([[112],[112],[0]])\n",
    "    three_d_spun = rotmx@three_d\n",
    "\n",
    "    new_width = three_d_spun[0, 15] - three_d_spun[0, 13]\n",
    "    new_height = three_d_spun[1, 14] - three_d_spun[1, 13]\n",
    "\n",
    "    # adjust the thing\n",
    "\n",
    "    scale_factor = 224/((new_width + new_height)/2)\n",
    "\n",
    "    three_d_spun, ctr_pt = three_d_spun * scale_factor, ctr_pt * scale_factor\n",
    "    three_d_spun = three_d_spun - ctr_pt + np.array([[112],[112],[0]])\n",
    "\n",
    "    flattened_targ = three_d_spun[:2]\n",
    "    flattened_targ = np.minimum(223, flattened_targ)\n",
    "    flattened_targ = np.maximum(0, flattened_targ)\n",
    "\n",
    "    warpeds = []\n",
    "    for idx in range(BIG_K):\n",
    "\n",
    "        img, opoints = grab_pic(BREED, indices[idx])\n",
    "        img = img.astype(float)/255\n",
    "        opoints = add_corners_2(opoints)\n",
    "\n",
    "\n",
    "        warped = morph(img, img, opoints.T, flattened_targ.T, simplices, 0, 1)\n",
    "\n",
    "        warpeds.append(warped)\n",
    "\n",
    "    canvas = np.zeros((224, 224, 3))\n",
    "    for idx in range(BIG_K):\n",
    "        canvas += warpeds[idx] * DISTRIBUTION[idx]\n",
    "    \n",
    "    canvas = (canvas / np.max(canvas) * 255).astype(np.uint8)\n",
    "    \n",
    "    skio.imsave(f\"frames_tilt/{BREED}/frame_{frame_idx:03}.jpg\", canvas)\n",
    "\n",
    "    plt.figure(figsize=(4, 4))\n",
    "    plt.gca().invert_yaxis()\n",
    "\n",
    "    plt.scatter(*flattened_targ, s = 5)\n",
    "    plt.triplot(flattened_targ[0], flattened_targ[1], simplices)\n",
    "    plt.savefig(f\"frames_tilt/{BREED}/wire_{frame_idx:03}.bmp\")\n",
    "    plt.close()"
   ]
  },
  {
   "cell_type": "markdown",
   "id": "c0bca2c7-042b-4c57-a044-655e7c9155ac",
   "metadata": {},
   "source": [
    "# for not_my_beagle"
   ]
  },
  {
   "cell_type": "code",
   "execution_count": 68,
   "id": "659380a2-1a58-4148-b326-336169832707",
   "metadata": {},
   "outputs": [
    {
     "data": {
      "text/plain": [
       "array([[ 78.73665787, 134.63729151,  98.66707506,  70.81725375,\n",
       "        111.60926102, 152.98989858,  70.99484282,  85.07996313,\n",
       "        126.09116511, 142.17648083,  90.71008668, 105.64147476,\n",
       "        100.73995678,   0.        ,   0.62899542, 222.36575011,\n",
       "        223.        ],\n",
       "       [100.594362  , 100.19219665, 145.2502091 ,  71.57652739,\n",
       "         58.70429753,  70.97095535, 100.40835814, 103.18011896,\n",
       "        102.94003263,  99.59805485, 145.14830304, 144.79483461,\n",
       "        160.36233135,   0.        , 223.        ,   0.        ,\n",
       "        223.        ]])"
      ]
     },
     "execution_count": 68,
     "metadata": {},
     "output_type": "execute_result"
    }
   ],
   "source": [
    "BREED = top_breeds[8]\n",
    "\n",
    "\n",
    "alphas = [d['alpha'] for d in camera_mts[BREED]]\n",
    "betas = [d['beta'] for d in camera_mts[BREED]]\n",
    "gammas = [d['gamma'] for d in camera_mts[BREED]]\n",
    "translates = [d['T'] for d in camera_mts[BREED]]\n",
    "scales = [d['scale'] for d in camera_mts[BREED]]\n",
    "\n",
    "betas_and_gammas = np.array([betas, gammas])\n",
    "\n",
    "alpha, beta, gamma, scale, tx, ty = [-7.28233828e-03, -1.37024725e-01,  1.37066615e-02,  1.46087026e+00,\n",
    "       -3.91845993e+01, -6.02513002e+01]\n",
    "\n",
    "indices = get_top_k(betas_and_gammas, [beta, gamma])\n",
    "\n",
    "three_d = add_corners_3(points_meanaligned_3d[BREED])\n",
    "\n",
    "rotmx = reconstruct_tmx([alpha, beta,gamma, 1, 0, 0])[0]\n",
    "ctr_pt = rotmx @ np.array([[112],[112],[0]])\n",
    "three_d_spun = rotmx@three_d\n",
    "\n",
    "new_width = three_d_spun[0, 15] - three_d_spun[0, 13]\n",
    "new_height = three_d_spun[1, 14] - three_d_spun[1, 13]\n",
    "\n",
    "# adjust the thing\n",
    "\n",
    "scale_factor = 224/((new_width + new_height)/2)\n",
    "\n",
    "three_d_spun, ctr_pt = three_d_spun * scale_factor, ctr_pt * scale_factor\n",
    "three_d_spun = three_d_spun - ctr_pt + np.array([[112],[112],[0]])\n",
    "\n",
    "flattened_targ = three_d_spun[:2]\n",
    "flattened_targ = np.minimum(223, flattened_targ)\n",
    "flattened_targ = np.maximum(0, flattened_targ)\n",
    "\n",
    "warpeds = []\n",
    "for idx in range(BIG_K):\n",
    "\n",
    "    img, opoints = grab_pic(BREED, indices[idx])\n",
    "    img = img.astype(float)/255\n",
    "    opoints = add_corners_2(opoints)\n",
    "\n",
    "\n",
    "    warped = morph(img, img, opoints.T, flattened_targ.T, simplices, 0, 1)\n",
    "\n",
    "    warpeds.append(warped)\n",
    "\n",
    "canvas = np.zeros((224, 224, 3))\n",
    "for idx in range(BIG_K):\n",
    "    canvas += warpeds[idx] * DISTRIBUTION[idx]\n",
    "\n",
    "canvas = (canvas / np.max(canvas) * 255).astype(np.uint8)\n",
    "\n",
    "skio.imsave(f\"avg_my_angle.jpg\", canvas)\n",
    "\n",
    "plt.figure(figsize=(4, 4))\n",
    "plt.gca().invert_yaxis()\n",
    "\n",
    "plt.scatter(*flattened_targ, s = 5)\n",
    "plt.triplot(flattened_targ[0], flattened_targ[1], simplices)\n",
    "plt.savefig(f\"frame_my_angle.jpg\")\n",
    "plt.close()\n",
    "\n",
    "(flattened_targ)"
   ]
  },
  {
   "cell_type": "code",
   "execution_count": null,
   "id": "987d03a1-04d1-4d56-a08c-5c5829655157",
   "metadata": {},
   "outputs": [],
   "source": []
  },
  {
   "cell_type": "code",
   "execution_count": 69,
   "id": "81adf216-12bf-4867-a39c-d21f9112cdc8",
   "metadata": {},
   "outputs": [
    {
     "data": {
      "text/plain": [
       "array([[ 81.6017585 , 137.41219894, 105.54261924,  68.98820619,\n",
       "        110.58177799, 153.43747501,  72.54974871,  87.96017914,\n",
       "        128.90507542, 144.85226869,  95.92213173, 112.88097755,\n",
       "        106.81419417,   0.        ,   0.62899542, 222.36575011,\n",
       "        223.        ],\n",
       "       [100.94662359, 100.52013288, 148.58361508,  52.93291958,\n",
       "         45.10697333,  52.34763007,  99.68566094, 103.41281579,\n",
       "        103.27140389,  99.07237396, 148.42166929, 148.29525272,\n",
       "        164.89178216,   0.        , 223.        ,   0.        ,\n",
       "        223.        ]])"
      ]
     },
     "execution_count": 69,
     "metadata": {},
     "output_type": "execute_result"
    }
   ],
   "source": [
    "BREED = top_breeds[0]\n",
    "\n",
    "alphas = [d['alpha'] for d in camera_mts[BREED]]\n",
    "betas = [d['beta'] for d in camera_mts[BREED]]\n",
    "gammas = [d['gamma'] for d in camera_mts[BREED]]\n",
    "translates = [d['T'] for d in camera_mts[BREED]]\n",
    "scales = [d['scale'] for d in camera_mts[BREED]]\n",
    "\n",
    "\n",
    "\n",
    "alpha, beta, gamma, scale, tx, ty = [-7.28233828e-03, -1.37024725e-01,  1.37066615e-02,  1.46087026e+00,\n",
    "       -3.91845993e+01, -6.02513002e+01]\n",
    "\n",
    "indices = get_top_k(betas_and_gammas, [beta, gamma])\n",
    "\n",
    "three_d = add_corners_3(points_meanaligned_3d[BREED])\n",
    "\n",
    "rotmx = reconstruct_tmx([alpha, beta,gamma, 1, 0, 0])[0]\n",
    "ctr_pt = rotmx @ np.array([[112],[112],[0]])\n",
    "three_d_spun = rotmx@three_d\n",
    "\n",
    "new_width = three_d_spun[0, 15] - three_d_spun[0, 13]\n",
    "new_height = three_d_spun[1, 14] - three_d_spun[1, 13]\n",
    "\n",
    "# adjust the thing\n",
    "\n",
    "scale_factor = 224/((new_width + new_height)/2)\n",
    "\n",
    "three_d_spun, ctr_pt = three_d_spun * scale_factor, ctr_pt * scale_factor\n",
    "three_d_spun = three_d_spun - ctr_pt + np.array([[112],[112],[0]])\n",
    "\n",
    "flattened_targ = three_d_spun[:2]\n",
    "flattened_targ = np.minimum(223, flattened_targ)\n",
    "flattened_targ = np.maximum(0, flattened_targ)\n",
    "\n",
    "warpeds = []\n",
    "for idx in range(BIG_K):\n",
    "\n",
    "    img, opoints = grab_pic(BREED, indices[idx])\n",
    "    img = img.astype(float)/255\n",
    "    opoints = add_corners_2(opoints)\n",
    "\n",
    "\n",
    "    warped = morph(img, img, opoints.T, flattened_targ.T, simplices, 0, 1)\n",
    "\n",
    "    warpeds.append(warped)\n",
    "\n",
    "canvas = np.zeros((224, 224, 3))\n",
    "for idx in range(BIG_K):\n",
    "    canvas += warpeds[idx] * DISTRIBUTION[idx]\n",
    "\n",
    "canvas = (canvas / np.max(canvas) * 255).astype(np.uint8)\n",
    "\n",
    "skio.imsave(f\"bc_my_angle.jpg\", canvas)\n",
    "\n",
    "plt.figure(figsize=(4, 4))\n",
    "plt.gca().invert_yaxis()\n",
    "\n",
    "plt.scatter(*flattened_targ, s = 5)\n",
    "plt.triplot(flattened_targ[0], flattened_targ[1], simplices)\n",
    "plt.savefig(f\"frame_bc_my_angle.jpg\")\n",
    "plt.close()\n",
    "\n",
    "flattened_targ"
   ]
  },
  {
   "cell_type": "code",
   "execution_count": null,
   "id": "0befd745-311a-4e34-9920-94adaa3d5fb3",
   "metadata": {},
   "outputs": [],
   "source": []
  }
 ],
 "metadata": {
  "kernelspec": {
   "display_name": "Python 3 (ipykernel)",
   "language": "python",
   "name": "python3"
  },
  "language_info": {
   "codemirror_mode": {
    "name": "ipython",
    "version": 3
   },
   "file_extension": ".py",
   "mimetype": "text/x-python",
   "name": "python",
   "nbconvert_exporter": "python",
   "pygments_lexer": "ipython3",
   "version": "3.8.12"
  }
 },
 "nbformat": 4,
 "nbformat_minor": 5
}
